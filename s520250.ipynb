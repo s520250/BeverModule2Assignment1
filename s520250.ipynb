{
 "cells": [
  {
   "cell_type": "markdown",
   "id": "f244a306-01a3-43b4-b9b6-60dcfbea1451",
   "metadata": {},
   "source": [
    "Sammie Bever"
   ]
  },
  {
   "cell_type": "code",
   "execution_count": 16,
   "id": "6d2fac41-f0a9-4e9e-8a95-5ac3bc25e0d5",
   "metadata": {},
   "outputs": [
    {
     "name": "stdout",
     "output_type": "stream",
     "text": [
      "*      *\n",
      "**    **\n",
      "***  ***\n",
      "********\n"
     ]
    }
   ],
   "source": [
    "for i in range (1,5):\n",
    "    for j in range(i):\n",
    "        print(\"*\", end=\"\")\n",
    "    for j in range(4-i):\n",
    "        print(\" \", end=\"\")\n",
    "    for j in range(4-i):\n",
    "        print(\" \", end=\"\")\n",
    "    for j in range(i-1):\n",
    "        print(\"*\", end=\"\")\n",
    "    print(\"*\")"
   ]
  }
 ],
 "metadata": {
  "kernelspec": {
   "display_name": "Python 3 (ipykernel)",
   "language": "python",
   "name": "python3"
  },
  "language_info": {
   "codemirror_mode": {
    "name": "ipython",
    "version": 3
   },
   "file_extension": ".py",
   "mimetype": "text/x-python",
   "name": "python",
   "nbconvert_exporter": "python",
   "pygments_lexer": "ipython3",
   "version": "3.9.7"
  }
 },
 "nbformat": 4,
 "nbformat_minor": 5
}
